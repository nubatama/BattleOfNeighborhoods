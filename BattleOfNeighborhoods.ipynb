{
 "cells": [
  {
   "cell_type": "markdown",
   "metadata": {},
   "source": [
    "The Battle of Neighborhoods: The Risk of COVID-19 at Shinjuku, Tokyo, Japan  \n",
    "=====\n",
    "\n",
    "This notebook will analyze the risks of COVID-19 when visiting Shinjuku. Location information provided by FOURSQUARE is used for risk analysis. "
   ]
  },
  {
   "cell_type": "markdown",
   "metadata": {},
   "source": [
    "# Introduction : The Problem  \n",
    "Since the spring of this year, COVID-19 has been damaged in many countries around the world. A COVID-19 cluster has also occurred in Shinjuku (Tokyo), Japan. Although it has stopped for a while, cluster formation has been confirmed again this month.  \n",
    "Shinjuku is a city where various businesses are actively conducted. Even if you know that a cluster has occurred, we still need to do business activities. Even in Shinjuku, it is reported that clusters are occurring in some areas (around Kabukicho).  \n",
    "What are the characteristics of Shinjuku and Kabukicho?  \n",
    "Is it possible to avoid the risk of COVID-19?  \n",
    "We will analyze based on the data provided by FOURSQUARE's location information service."
   ]
  },
  {
   "cell_type": "markdown",
   "metadata": {},
   "source": [
    "# Data To Use  \n",
    "\n",
    "In this analysis, the location information API provided by FOURSQUARE is used to collect information on the following stores in Shinjuku.  \n",
    "\n",
    "- coffe  \n",
    "- food  \n",
    "- nightlife  \n",
    "- fun  \n",
    "- shopping  \n",
    "- breakfirst  \n",
    "\n",
    "Cluster analysis will be performed based on the distribution of these stores, and risk will be examined based on the clustering of regional characteristics and the results of clustering."
   ]
  },
  {
   "cell_type": "markdown",
   "metadata": {},
   "source": [
    "# Methodology  \n",
    "\n",
    "commng soon..."
   ]
  },
  {
   "cell_type": "markdown",
   "metadata": {},
   "source": [
    "# Results  \n",
    "\n",
    "comming soon..."
   ]
  },
  {
   "cell_type": "markdown",
   "metadata": {},
   "source": [
    "# Discussion  \n",
    "\n",
    "comming soon..."
   ]
  },
  {
   "cell_type": "markdown",
   "metadata": {},
   "source": [
    "# Conclution  \n",
    "\n",
    "comming soon..."
   ]
  },
  {
   "cell_type": "code",
   "execution_count": null,
   "metadata": {},
   "outputs": [],
   "source": []
  },
  {
   "cell_type": "code",
   "execution_count": null,
   "metadata": {},
   "outputs": [],
   "source": []
  }
 ],
 "metadata": {
  "kernelspec": {
   "display_name": "Python 3",
   "language": "python",
   "name": "python3"
  },
  "language_info": {
   "codemirror_mode": {
    "name": "ipython",
    "version": 3
   },
   "file_extension": ".py",
   "mimetype": "text/x-python",
   "name": "python",
   "nbconvert_exporter": "python",
   "pygments_lexer": "ipython3",
   "version": "3.7.6"
  }
 },
 "nbformat": 4,
 "nbformat_minor": 4
}
